{
 "cells": [
  {
   "cell_type": "code",
   "execution_count": 3,
   "metadata": {
    "id": "WNqSVJZFUR-L"
   },
   "outputs": [
    {
     "name": "stdout",
     "output_type": "stream",
     "text": [
      "Requirement already satisfied: plotly in /usr/local/lib/python3.6/dist-packages (4.12.0)\n",
      "Requirement already satisfied: retrying>=1.3.3 in /usr/local/lib/python3.6/dist-packages (from plotly) (1.3.3)\n",
      "Requirement already satisfied: six in /usr/local/lib/python3.6/dist-packages (from plotly) (1.15.0)\n",
      "Requirement already satisfied: lightgbm in /usr/local/lib/python3.6/dist-packages (3.1.0)\n",
      "Requirement already satisfied: scipy in /usr/local/lib/python3.6/dist-packages (from lightgbm) (1.5.4)\n",
      "Requirement already satisfied: scikit-learn!=0.22.0 in /usr/local/lib/python3.6/dist-packages (from lightgbm) (0.23.2)\n",
      "Requirement already satisfied: numpy in /usr/local/lib/python3.6/dist-packages (from lightgbm) (1.17.2)\n",
      "Requirement already satisfied: joblib>=0.11 in /usr/local/lib/python3.6/dist-packages (from scikit-learn!=0.22.0->lightgbm) (0.17.0)\n",
      "Requirement already satisfied: threadpoolctl>=2.0.0 in /usr/local/lib/python3.6/dist-packages (from scikit-learn!=0.22.0->lightgbm) (2.1.0)\n"
     ]
    }
   ],
   "source": [
    "# Data Manipulation Libraries\n",
    "import pandas as pd\n",
    "import numpy as np\n",
    "import datetime\n",
    "import os\n",
    "\n",
    "import matplotlib.pyplot as plt\n",
    "!pip install plotly\n",
    "import plotly.express as px\n",
    "!pip install lightgbm\n",
    "from lightgbm import LGBMRegressor\n",
    "import joblib\n",
    "\n",
    "from sklearn.linear_model import LinearRegression\n",
    "from sklearn.preprocessing import OneHotEncoder\n",
    "\n",
    "import warnings\n",
    "warnings.filterwarnings(\"ignore\")"
   ]
  },
  {
   "cell_type": "code",
   "execution_count": 4,
   "metadata": {
    "id": "51KJCJ2wU7AB"
   },
   "outputs": [
    {
     "name": "stdout",
     "output_type": "stream",
     "text": [
      "['InvoiceDate']\n",
      "['InvoiceNo', 'StockCode', 'Description', 'Quantity', 'UnitPrice', 'CustomerID', 'Country']\n"
     ]
    },
    {
     "data": {
      "text/html": [
       "<div>\n",
       "<style scoped>\n",
       "    .dataframe tbody tr th:only-of-type {\n",
       "        vertical-align: middle;\n",
       "    }\n",
       "\n",
       "    .dataframe tbody tr th {\n",
       "        vertical-align: top;\n",
       "    }\n",
       "\n",
       "    .dataframe thead th {\n",
       "        text-align: right;\n",
       "    }\n",
       "</style>\n",
       "<table border=\"1\" class=\"dataframe\">\n",
       "  <thead>\n",
       "    <tr style=\"text-align: right;\">\n",
       "      <th></th>\n",
       "      <th>InvoiceNo</th>\n",
       "      <th>StockCode</th>\n",
       "      <th>Description</th>\n",
       "      <th>Quantity</th>\n",
       "      <th>InvoiceDate</th>\n",
       "      <th>UnitPrice</th>\n",
       "      <th>CustomerID</th>\n",
       "      <th>Country</th>\n",
       "    </tr>\n",
       "  </thead>\n",
       "  <tbody>\n",
       "    <tr>\n",
       "      <th>0</th>\n",
       "      <td>6141</td>\n",
       "      <td>1583</td>\n",
       "      <td>144</td>\n",
       "      <td>3</td>\n",
       "      <td>2011-05-06 16:54:00</td>\n",
       "      <td>3.75</td>\n",
       "      <td>14056.0</td>\n",
       "      <td>35</td>\n",
       "    </tr>\n",
       "    <tr>\n",
       "      <th>1</th>\n",
       "      <td>6349</td>\n",
       "      <td>1300</td>\n",
       "      <td>3682</td>\n",
       "      <td>6</td>\n",
       "      <td>2011-05-11 07:35:00</td>\n",
       "      <td>1.95</td>\n",
       "      <td>13098.0</td>\n",
       "      <td>35</td>\n",
       "    </tr>\n",
       "    <tr>\n",
       "      <th>2</th>\n",
       "      <td>16783</td>\n",
       "      <td>2178</td>\n",
       "      <td>1939</td>\n",
       "      <td>4</td>\n",
       "      <td>2011-11-20 13:20:00</td>\n",
       "      <td>5.95</td>\n",
       "      <td>15044.0</td>\n",
       "      <td>35</td>\n",
       "    </tr>\n",
       "    <tr>\n",
       "      <th>3</th>\n",
       "      <td>16971</td>\n",
       "      <td>2115</td>\n",
       "      <td>2983</td>\n",
       "      <td>1</td>\n",
       "      <td>2011-11-22 12:07:00</td>\n",
       "      <td>0.83</td>\n",
       "      <td>15525.0</td>\n",
       "      <td>35</td>\n",
       "    </tr>\n",
       "    <tr>\n",
       "      <th>4</th>\n",
       "      <td>6080</td>\n",
       "      <td>1210</td>\n",
       "      <td>2886</td>\n",
       "      <td>12</td>\n",
       "      <td>2011-05-06 09:00:00</td>\n",
       "      <td>1.65</td>\n",
       "      <td>13952.0</td>\n",
       "      <td>35</td>\n",
       "    </tr>\n",
       "  </tbody>\n",
       "</table>\n",
       "</div>"
      ],
      "text/plain": [
       "   InvoiceNo  StockCode  Description  Quantity          InvoiceDate  \\\n",
       "0       6141       1583          144         3  2011-05-06 16:54:00   \n",
       "1       6349       1300         3682         6  2011-05-11 07:35:00   \n",
       "2      16783       2178         1939         4  2011-11-20 13:20:00   \n",
       "3      16971       2115         2983         1  2011-11-22 12:07:00   \n",
       "4       6080       1210         2886        12  2011-05-06 09:00:00   \n",
       "\n",
       "   UnitPrice  CustomerID  Country  \n",
       "0       3.75     14056.0       35  \n",
       "1       1.95     13098.0       35  \n",
       "2       5.95     15044.0       35  \n",
       "3       0.83     15525.0       35  \n",
       "4       1.65     13952.0       35  "
      ]
     },
     "execution_count": 4,
     "metadata": {},
     "output_type": "execute_result"
    }
   ],
   "source": [
    "retail = pd.read_csv('Train.csv')\n",
    "retail_test = pd.read_csv('Test.csv')\n",
    "retail_data = retail.copy()\n",
    "retail_test_data = retail_test.copy()\n",
    "\n",
    "#Drop Duplicate rows\n",
    "retail_data.drop_duplicates(subset=None, keep='first', inplace=True)\n",
    "#Only dropped one outlier\n",
    "retail_data.drop(retail_data.loc[retail_data['UnitPrice']>35000,:].index,inplace=True)\n",
    "\n",
    "# #No missing values\n",
    "# import missingno as msno\n",
    "# msno.matrix(retail_test)\n",
    "# print(retail_test.isna().sum())\n",
    "#Seperate Categorical and Numerical Columns\n",
    "cat_cols = retail_data.select_dtypes(include=['object','category']).columns.tolist()\n",
    "print(cat_cols)\n",
    "\n",
    "num_cols = retail_data.select_dtypes(include=['int64','float64']).columns.tolist()\n",
    "print(num_cols)\n",
    "\n",
    "retail_data.head()"
   ]
  },
  {
   "cell_type": "code",
   "execution_count": 5,
   "metadata": {},
   "outputs": [],
   "source": [
    "def sum_of_rolling_mean():\n",
    "    retail_data.groupby('StockCode')['UnitPrice'].rolling(3,center=True,min_periods=1).mean().reset_index(drop=True).sum()\n",
    "    \n",
    "def drop_irrelavant_columns(df):\n",
    "    df.drop(columns=['InvoiceNo','Description'],inplace=True)\n",
    "    \n",
    "def sample_by_hour_set_index(df):\n",
    "    df['InvoiceDate'] = pd.to_datetime(df['InvoiceDate'])\n",
    "#     df['InvoiceDate'] = pd.to_datetime(df['InvoiceDate'].strftime('%Y-%m-%d %H:%M:%S'))\n",
    "    df.sort_values(by='InvoiceDate',inplace=True)\n",
    "\n",
    "def get_uniques(df_train,df_test):\n",
    "    unique_SC_test_values = df_test['StockCode'].unique()\n",
    "    unique_SC_train_values = df_train['StockCode'].unique()\n",
    "    unique_unseen_SC_test_values = []\n",
    "    unique_common_SC_values = []\n",
    "    for i in unique_SC_test_values:\n",
    "        if i in unique_SC_train_values:\n",
    "            unique_common_SC_values.append(i)\n",
    "        else:\n",
    "            unique_unseen_SC_test_values.append(i)\n",
    "\n",
    "    unique = {'SC_test':unique_SC_test_values,'SC_train':unique_SC_train_values,'SC_common_values':unique_common_SC_values,'unseen_SC':unique_unseen_SC_test_values}\n",
    "    return unique\n",
    "\n",
    "def perform_ops_for_both_train_and_test(data):\n",
    "    drop_irrelavant_columns(data)\n",
    "    sample_by_hour_set_index(data)\n",
    "    "
   ]
  },
  {
   "cell_type": "code",
   "execution_count": 6,
   "metadata": {},
   "outputs": [],
   "source": [
    "perform_ops_for_both_train_and_test(retail_data)\n",
    "perform_ops_for_both_train_and_test(retail_test_data)\n",
    "unique = get_uniques(retail_data,retail_test_data)"
   ]
  },
  {
   "cell_type": "code",
   "execution_count": 7,
   "metadata": {},
   "outputs": [
    {
     "data": {
      "text/plain": [
       "array([2649, 1489, 1480, ..., 3667, 3654, 2275])"
      ]
     },
     "execution_count": 7,
     "metadata": {},
     "output_type": "execute_result"
    }
   ],
   "source": [
    "unique['SC_test']"
   ]
  },
  {
   "cell_type": "code",
   "execution_count": 8,
   "metadata": {},
   "outputs": [],
   "source": [
    "unique_country = np.sort(retail_test_data['Country'].unique())"
   ]
  },
  {
   "cell_type": "code",
   "execution_count": 9,
   "metadata": {},
   "outputs": [],
   "source": [
    "retail_test_data['UnitPrice'] = 0"
   ]
  },
  {
   "cell_type": "code",
   "execution_count": 10,
   "metadata": {},
   "outputs": [
    {
     "data": {
      "text/plain": [
       "1489"
      ]
     },
     "execution_count": 10,
     "metadata": {},
     "output_type": "execute_result"
    }
   ],
   "source": [
    "unique['SC_common_values'][1]"
   ]
  },
  {
   "cell_type": "code",
   "execution_count": 11,
   "metadata": {},
   "outputs": [
    {
     "data": {
      "text/plain": [
       "35    250667\n",
       "14      6648\n",
       "13      5939\n",
       "10      5238\n",
       "30      1773\n",
       "23      1680\n",
       "3       1435\n",
       "32      1293\n",
       "26      1044\n",
       "0        883\n",
       "24       766\n",
       "18       561\n",
       "6        536\n",
       "12       489\n",
       "7        419\n",
       "31       324\n",
       "1        303\n",
       "9        273\n",
       "25       244\n",
       "19       238\n",
       "33       210\n",
       "17       184\n",
       "36       169\n",
       "29       152\n",
       "16       132\n",
       "5        106\n",
       "15       101\n",
       "22        89\n",
       "34        52\n",
       "27        47\n",
       "11        40\n",
       "20        34\n",
       "8         26\n",
       "21        25\n",
       "4         20\n",
       "2         10\n",
       "28         8\n",
       "Name: Country, dtype: int64"
      ]
     },
     "execution_count": 11,
     "metadata": {},
     "output_type": "execute_result"
    }
   ],
   "source": [
    "retail_data['Country'].value_counts()"
   ]
  },
  {
   "cell_type": "code",
   "execution_count": 12,
   "metadata": {},
   "outputs": [],
   "source": [
    "sd = retail_test_data['Country'].unique()\n",
    "cur_choosing = np.setdiff1d(sd,[28,2,4])"
   ]
  },
  {
   "cell_type": "code",
   "execution_count": 13,
   "metadata": {},
   "outputs": [
    {
     "name": "stderr",
     "output_type": "stream",
     "text": [
      "INFO:fbprophet:Disabling yearly seasonality. Run prophet with yearly_seasonality=True to override this.\n",
      "INFO:fbprophet:n_changepoints greater than number of observations. Using 16.\n"
     ]
    },
    {
     "name": "stdout",
     "output_type": "stream",
     "text": [
      "                   ds      yhat  yhat_lower  yhat_upper\n",
      "0 2010-12-01 08:45:00  0.880740    0.820890    0.939560\n",
      "1 2010-12-10 10:56:00  0.951576    0.893550    1.017661\n",
      "2 2011-01-05 14:48:00  0.853427    0.792489    0.917311\n",
      "3 2011-01-17 11:46:00  0.792443    0.727877    0.852782\n",
      "4 2011-01-18 14:04:00  0.795384    0.731752    0.859464\n"
     ]
    }
   ],
   "source": [
    "# country 14, 13 has less values can use for test - 35 largest values\n",
    "from fbprophet import Prophet\n",
    "pro_df = retail_data.loc[retail_data['StockCode']==1489 & (retail_data['Country']==35),['InvoiceDate','UnitPrice']]\n",
    "pro_df['InvoiceDate'] = pd.to_datetime(pro_df['InvoiceDate'])\n",
    "pro_df.rename(columns={'InvoiceDate':'ds','UnitPrice':'y'},inplace=True)\n",
    "model = Prophet()\n",
    "# fit the model\n",
    "model.fit(pro_df)\n",
    "future = pro_df.drop(columns=['y'])\n",
    "# use the model to make a forecast\n",
    "forecast = model.predict(future)\n",
    "# summarize the forecast\n",
    "print(forecast[['ds', 'yhat', 'yhat_lower', 'yhat_upper']].head())"
   ]
  },
  {
   "cell_type": "code",
   "execution_count": 14,
   "metadata": {},
   "outputs": [],
   "source": [
    "oosp = retail_test_data.loc[retail_test_data['StockCode']==1489 & (retail_test_data['Country']==35),['InvoiceDate']]\n",
    "oosp.rename(columns={'InvoiceDate':'ds'},inplace=True)"
   ]
  },
  {
   "cell_type": "code",
   "execution_count": 15,
   "metadata": {},
   "outputs": [
    {
     "name": "stdout",
     "output_type": "stream",
     "text": [
      "                   ds      yhat  yhat_lower  yhat_upper\n",
      "0 2010-12-09 14:49:00  0.934882    0.877287    1.000204\n",
      "1 2010-12-10 12:33:00  0.895259    0.829487    0.954197\n",
      "2 2011-01-20 10:48:00  0.825299    0.765013    0.890765\n",
      "3 2011-01-31 09:57:00  0.807909    0.743712    0.868667\n",
      "4 2011-02-04 10:31:00  0.870506    0.804942    0.939302\n"
     ]
    }
   ],
   "source": [
    "forecast = model.predict(oosp)\n",
    "# summarize the forecast\n",
    "print(forecast[['ds', 'yhat', 'yhat_lower', 'yhat_upper']].head())"
   ]
  },
  {
   "cell_type": "code",
   "execution_count": 16,
   "metadata": {},
   "outputs": [
    {
     "data": {
      "text/html": [
       "<div>\n",
       "<style scoped>\n",
       "    .dataframe tbody tr th:only-of-type {\n",
       "        vertical-align: middle;\n",
       "    }\n",
       "\n",
       "    .dataframe tbody tr th {\n",
       "        vertical-align: top;\n",
       "    }\n",
       "\n",
       "    .dataframe thead th {\n",
       "        text-align: right;\n",
       "    }\n",
       "</style>\n",
       "<table border=\"1\" class=\"dataframe\">\n",
       "  <thead>\n",
       "    <tr style=\"text-align: right;\">\n",
       "      <th></th>\n",
       "      <th>StockCode</th>\n",
       "      <th>Quantity</th>\n",
       "      <th>InvoiceDate</th>\n",
       "      <th>UnitPrice</th>\n",
       "      <th>CustomerID</th>\n",
       "      <th>Country</th>\n",
       "    </tr>\n",
       "  </thead>\n",
       "  <tbody>\n",
       "    <tr>\n",
       "      <th>59748</th>\n",
       "      <td>2802</td>\n",
       "      <td>6</td>\n",
       "      <td>2010-12-01 08:26:00</td>\n",
       "      <td>3.39</td>\n",
       "      <td>17850.0</td>\n",
       "      <td>35</td>\n",
       "    </tr>\n",
       "    <tr>\n",
       "      <th>124355</th>\n",
       "      <td>2855</td>\n",
       "      <td>8</td>\n",
       "      <td>2010-12-01 08:26:00</td>\n",
       "      <td>2.75</td>\n",
       "      <td>17850.0</td>\n",
       "      <td>35</td>\n",
       "    </tr>\n",
       "    <tr>\n",
       "      <th>281503</th>\n",
       "      <td>2803</td>\n",
       "      <td>6</td>\n",
       "      <td>2010-12-01 08:26:00</td>\n",
       "      <td>3.39</td>\n",
       "      <td>17850.0</td>\n",
       "      <td>35</td>\n",
       "    </tr>\n",
       "    <tr>\n",
       "      <th>53973</th>\n",
       "      <td>1605</td>\n",
       "      <td>2</td>\n",
       "      <td>2010-12-01 08:26:00</td>\n",
       "      <td>7.65</td>\n",
       "      <td>17850.0</td>\n",
       "      <td>35</td>\n",
       "    </tr>\n",
       "    <tr>\n",
       "      <th>33757</th>\n",
       "      <td>755</td>\n",
       "      <td>6</td>\n",
       "      <td>2010-12-01 08:26:00</td>\n",
       "      <td>4.25</td>\n",
       "      <td>17850.0</td>\n",
       "      <td>35</td>\n",
       "    </tr>\n",
       "  </tbody>\n",
       "</table>\n",
       "</div>"
      ],
      "text/plain": [
       "        StockCode  Quantity         InvoiceDate  UnitPrice  CustomerID  \\\n",
       "59748        2802         6 2010-12-01 08:26:00       3.39     17850.0   \n",
       "124355       2855         8 2010-12-01 08:26:00       2.75     17850.0   \n",
       "281503       2803         6 2010-12-01 08:26:00       3.39     17850.0   \n",
       "53973        1605         2 2010-12-01 08:26:00       7.65     17850.0   \n",
       "33757         755         6 2010-12-01 08:26:00       4.25     17850.0   \n",
       "\n",
       "        Country  \n",
       "59748        35  \n",
       "124355       35  \n",
       "281503       35  \n",
       "53973        35  \n",
       "33757        35  "
      ]
     },
     "execution_count": 16,
     "metadata": {},
     "output_type": "execute_result"
    }
   ],
   "source": [
    "retail_data.head()"
   ]
  },
  {
   "cell_type": "code",
   "execution_count": 17,
   "metadata": {},
   "outputs": [],
   "source": [
    "import logging\n",
    "logging.getLogger('fbprophet').setLevel(logging.WARNING)"
   ]
  },
  {
   "cell_type": "code",
   "execution_count": 18,
   "metadata": {},
   "outputs": [
    {
     "name": "stdout",
     "output_type": "stream",
     "text": [
      "Processing for country : 0\n",
      "Number of countries processed : 104\n",
      "Processing for country : 1\n",
      "Number of countries processed : 8\n",
      "Processing for country : 3\n",
      "Number of countries processed : 157\n",
      "Processing for country : 5\n",
      "Number of countries processed : 0\n",
      "Processing for country : 6\n",
      "Number of countries processed : 49\n",
      "Processing for country : 7\n",
      "Number of countries processed : 14\n",
      "Processing for country : 8\n",
      "Number of countries processed : 1\n",
      "Processing for country : 9\n",
      "Number of countries processed : 14\n",
      "Processing for country : 10\n",
      "Number of countries processed : 656\n",
      "Processing for country : 11\n",
      "Number of countries processed : 0\n",
      "Processing for country : 12\n"
     ]
    },
    {
     "name": "stderr",
     "output_type": "stream",
     "text": [
      "WARNING:fbprophet.models:Optimization terminated abnormally. Falling back to Newton.\n",
      "WARNING:fbprophet.models:Optimization terminated abnormally. Falling back to Newton.\n"
     ]
    },
    {
     "name": "stdout",
     "output_type": "stream",
     "text": [
      "Number of countries processed : 26\n",
      "Processing for country : 13\n",
      "Number of countries processed : 574\n",
      "Processing for country : 14\n",
      "Number of countries processed : 695\n",
      "Processing for country : 15\n",
      "Number of countries processed : 0\n",
      "Processing for country : 16\n",
      "Number of countries processed : 14\n",
      "Processing for country : 17\n",
      "Number of countries processed : 3\n",
      "Processing for country : 18\n",
      "Number of countries processed : 40\n",
      "Processing for country : 19\n",
      "Number of countries processed : 19\n",
      "Processing for country : 20\n",
      "Number of countries processed : 0\n",
      "Processing for country : 21\n",
      "Number of countries processed : 0\n",
      "Processing for country : 22\n",
      "Number of countries processed : 6\n",
      "Processing for country : 23\n",
      "Number of countries processed : 200\n",
      "Processing for country : 24\n",
      "Number of countries processed : 83\n",
      "Processing for country : 25\n",
      "Number of countries processed : 25\n",
      "Processing for country : 26\n",
      "Number of countries processed : 110\n",
      "Processing for country : 27\n",
      "Number of countries processed : 0\n",
      "Processing for country : 29\n",
      "Number of countries processed : 5\n",
      "Processing for country : 30\n",
      "Number of countries processed : 204\n",
      "Processing for country : 31\n",
      "Number of countries processed : 25\n",
      "Processing for country : 32\n",
      "Number of countries processed : 125\n",
      "Processing for country : 33\n",
      "Number of countries processed : 5\n",
      "Processing for country : 34\n",
      "Number of countries processed : 0\n",
      "Processing for country : 35\n",
      "Number of countries processed : 3229\n",
      "Processing for country : 36\n",
      "Number of countries processed : 1\n"
     ]
    }
   ],
   "source": [
    "exception = []\n",
    "for cur_country in cur_choosing:\n",
    "    \n",
    "    retail_data_cc = retail_data.loc[retail_data['Country']==cur_country]\n",
    "    retail_test_data_cc = retail_test_data.loc[retail_test_data['Country']==cur_country]\n",
    "    print('Processing for country : {}'.format(cur_country))\n",
    "    number_of_stock_codes_processed = 0\n",
    "    for usct in unique['SC_common_values']:\n",
    "            \n",
    "            stockuniq = retail_data_cc.loc[retail_data_cc['StockCode']==usct,['InvoiceDate','UnitPrice']]\n",
    "            stockuniqt = retail_test_data_cc.loc[retail_test_data_cc['StockCode']==usct,['InvoiceDate']]\n",
    "            stockuniqt['second'] = 'sc'\n",
    "            \n",
    "            try:\n",
    "                pro_df = stockuniq.rename(columns={'InvoiceDate':'ds','UnitPrice':'y'})\n",
    "                model = Prophet()\n",
    "                # fit the model\n",
    "                model.fit(pro_df)\n",
    "                future = stockuniqt.rename(columns={'InvoiceDate':'ds'})\n",
    "                # use the model to make a forecast\n",
    "                forecast = model.predict(future)\n",
    "                retail_test_data.loc[(retail_test_data['Country']==cur_country) & (retail_test_data['StockCode']==usct),['UnitPrice']] = forecast['yhat'].values\n",
    "                number_of_stock_codes_processed += 1\n",
    "            except Exception:\n",
    "                exception.append([cur_country,usct])\n",
    "                continue\n",
    "    print('Number of countries processed : {}'.format(number_of_stock_codes_processed))\n",
    "    retail_test_data.loc[(retail_test_data['Country']==cur_country),['UnitPrice']].to_csv('prophet_country_'+str(cur_country))\n"
   ]
  },
  {
   "cell_type": "code",
   "execution_count": null,
   "metadata": {},
   "outputs": [],
   "source": [
    "len(exception)"
   ]
  },
  {
   "cell_type": "code",
   "execution_count": 1,
   "metadata": {},
   "outputs": [
    {
     "ename": "NameError",
     "evalue": "name 'retail_test_data' is not defined",
     "output_type": "error",
     "traceback": [
      "\u001b[0;31m---------------------------------------------------------------------------\u001b[0m",
      "\u001b[0;31mNameError\u001b[0m                                 Traceback (most recent call last)",
      "\u001b[0;32m<ipython-input-1-719b075ac941>\u001b[0m in \u001b[0;36m<module>\u001b[0;34m\u001b[0m\n\u001b[0;32m----> 1\u001b[0;31m \u001b[0mretail_test_data\u001b[0m\u001b[0;34m[\u001b[0m\u001b[0mretail_test_data\u001b[0m\u001b[0;34m[\u001b[0m\u001b[0;34m'UnitPrice'\u001b[0m\u001b[0;34m]\u001b[0m\u001b[0;34m==\u001b[0m\u001b[0;36m0\u001b[0m\u001b[0;34m]\u001b[0m\u001b[0;34m\u001b[0m\u001b[0;34m\u001b[0m\u001b[0m\n\u001b[0m",
      "\u001b[0;31mNameError\u001b[0m: name 'retail_test_data' is not defined"
     ]
    }
   ],
   "source": [
    "retail_test_data[retail_test_data['UnitPrice']==0]"
   ]
  },
  {
   "cell_type": "code",
   "execution_count": null,
   "metadata": {},
   "outputs": [],
   "source": [
    "retail_test_data.to_csv('prophet01.csv')"
   ]
  },
  {
   "cell_type": "code",
   "execution_count": 2,
   "metadata": {},
   "outputs": [
    {
     "data": {
      "text/plain": [
       "'4'"
      ]
     },
     "execution_count": 2,
     "metadata": {},
     "output_type": "execute_result"
    }
   ],
   "source": [
    "str(4)"
   ]
  },
  {
   "cell_type": "code",
   "execution_count": null,
   "metadata": {},
   "outputs": [],
   "source": []
  },
  {
   "cell_type": "markdown",
   "metadata": {},
   "source": [
    "Processing for country : 0\n",
    "Number of countries processed : 104\n",
    "Processing for country : 1\n",
    "Number of countries processed : 8\n",
    "Processing for country : 3\n",
    "Number of countries processed : 157\n",
    "Processing for country : 5\n",
    "Number of countries processed : 0\n",
    "Processing for country : 6\n",
    "Number of countries processed : 49\n",
    "Processing for country : 7\n",
    "Number of countries processed : 14\n",
    "Processing for country : 8\n",
    "Number of countries processed : 1\n",
    "Processing for country : 9\n",
    "Number of countries processed : 14\n",
    "Processing for country : 10\n",
    "Number of countries processed : 656\n",
    "Processing for country : 11\n",
    "Number of countries processed : 0\n",
    "Processing for country : 12\n",
    "WARNING:fbprophet.models:Optimization terminated abnormally. Falling back to Newton.\n",
    "WARNING:fbprophet.models:Optimization terminated abnormally. Falling back to Newton.\n",
    "Number of countries processed : 26\n",
    "Processing for country : 13\n",
    "Number of countries processed : 574\n",
    "Processing for country : 14\n",
    "Number of countries processed : 695\n",
    "Processing for country : 15\n",
    "Number of countries processed : 0\n",
    "Processing for country : 16\n",
    "Number of countries processed : 14\n",
    "Processing for country : 17\n",
    "Number of countries processed : 3\n",
    "Processing for country : 18\n",
    "Number of countries processed : 40\n",
    "Processing for country : 19\n",
    "Number of countries processed : 19\n",
    "Processing for country : 20\n",
    "Number of countries processed : 0\n",
    "Processing for country : 21\n",
    "Number of countries processed : 0\n",
    "Processing for country : 22\n",
    "Number of countries processed : 6\n",
    "Processing for country : 23\n",
    "Number of countries processed : 200\n",
    "Processing for country : 24\n",
    "Number of countries processed : 83\n",
    "Processing for country : 25\n",
    "Number of countries processed : 25\n",
    "Processing for country : 26\n",
    "Number of countries processed : 110\n",
    "Processing for country : 27\n",
    "Number of countries processed : 0\n",
    "Processing for country : 29\n",
    "Number of countries processed : 5\n",
    "Processing for country : 30\n",
    "Number of countries processed : 204\n",
    "Processing for country : 31\n",
    "Number of countries processed : 25\n",
    "Processing for country : 32\n",
    "Number of countries processed : 125\n",
    "Processing for country : 33\n",
    "Number of countries processed : 5\n",
    "Processing for country : 34\n",
    "Number of countries processed : 0\n",
    "Processing for country : 35\n",
    "Number of countries processed : 3229\n",
    "Processing for country : 36\n",
    "Number of countries processed : 1"
   ]
  },
  {
   "cell_type": "code",
   "execution_count": null,
   "metadata": {},
   "outputs": [],
   "source": []
  }
 ],
 "metadata": {
  "kernelspec": {
   "display_name": "Python 3",
   "language": "python",
   "name": "python3"
  },
  "language_info": {
   "codemirror_mode": {
    "name": "ipython",
    "version": 3
   },
   "file_extension": ".py",
   "mimetype": "text/x-python",
   "name": "python",
   "nbconvert_exporter": "python",
   "pygments_lexer": "ipython3",
   "version": "3.6.8"
  }
 },
 "nbformat": 4,
 "nbformat_minor": 4
}
